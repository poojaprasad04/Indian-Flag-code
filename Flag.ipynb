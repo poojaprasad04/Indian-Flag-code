{
 "cells": [
  {
   "cell_type": "code",
   "execution_count": 27,
   "metadata": {},
   "outputs": [],
   "source": [
    "import turtle\n",
    "from turtle import*"
   ]
  },
  {
   "cell_type": "code",
   "execution_count": 28,
   "metadata": {},
   "outputs": [],
   "source": [
    "screen = turtle.Screen()"
   ]
  },
  {
   "cell_type": "code",
   "execution_count": 29,
   "metadata": {},
   "outputs": [],
   "source": [
    "t = turtle.Turtle()\n",
    "speed(0)"
   ]
  },
  {
   "cell_type": "code",
   "execution_count": 30,
   "metadata": {},
   "outputs": [],
   "source": [
    "t.penup()\n",
    "t.goto(-400, 250)\n",
    "t.pendown()"
   ]
  },
  {
   "cell_type": "raw",
   "metadata": {},
   "source": [
    "t.color(\"orange\")\n",
    "t.begin_fill()\n",
    "t.forward(800)\n",
    "t.right(90)\n",
    "t.forward(167)\n",
    "t.right(800)\n",
    "t.nd_fill()\n",
    "t.left(90)\n",
    "t.forward(167)"
   ]
  },
  {
   "cell_type": "code",
   "execution_count": 31,
   "metadata": {},
   "outputs": [],
   "source": [
    "t.color(\"green\")\n",
    "t.begin_fill()\n",
    "t.forward(167)\n",
    "t.left(90)\n",
    "t.forward(800)\n",
    "t.left(90)\n",
    "t.forward(167)\n",
    "t.end_fill()"
   ]
  },
  {
   "cell_type": "code",
   "execution_count": 32,
   "metadata": {},
   "outputs": [],
   "source": [
    "t.penup()\n",
    "t.goto(70, 0)\n",
    "t.pendown()\n",
    "t.color(\"navy\")\n",
    "t.begin_fill()\n",
    "t.circle(70)\n",
    "t.end_fill()"
   ]
  },
  {
   "cell_type": "code",
   "execution_count": 33,
   "metadata": {},
   "outputs": [],
   "source": [
    "t.penup()\n",
    "t.goto(60, 0)\n",
    "t.pendown()\n",
    "t.color(\"white\")\n",
    "t.begin_fill()\n",
    "t.circle(60)\n",
    "t.end_fill()"
   ]
  },
  {
   "cell_type": "code",
   "execution_count": 34,
   "metadata": {},
   "outputs": [],
   "source": [
    "t.penup()\n",
    "t.goto(-57, -8)\n",
    "t.pendown()\n",
    "t.color(\"navy\")\n",
    "for i in range(24):\n",
    "    t.begin_fill()\n",
    "    t.circle(3)\n",
    "    t.end_fill()\n",
    "    t.penup()\n",
    "    t.forward(15)\n",
    "    t.right(15)\n",
    "    t.pendown()"
   ]
  },
  {
   "cell_type": "code",
   "execution_count": null,
   "metadata": {},
   "outputs": [],
   "source": [
    "t.penup()\n",
    "t.goto(20. 0)\n",
    "t.pendown()\n",
    "t.begin_fill()\n",
    "t.circle(20)\n",
    "t.end_fill()\n",
    " \n",
    "t.penup()    \n",
    "t.goto(0, 0)\n",
    "t.pendown()\n",
    "t.pensize(2)\n",
    "for i in range(24):\n",
    "    t.forward(60)\n",
    "    t.backward(60)\n",
    "    t.left(15)"
   ]
  },
  {
   "cell_type": "code",
   "execution_count": null,
   "metadata": {},
   "outputs": [],
   "source": [
    "turtle.done()"
   ]
  },
  {
   "cell_type": "code",
   "execution_count": null,
   "metadata": {},
   "outputs": [],
   "source": [
    "turtle.show()"
   ]
  },
  {
   "cell_type": "code",
   "execution_count": null,
   "metadata": {},
   "outputs": [],
   "source": []
  }
 ],
 "metadata": {
  "kernelspec": {
   "display_name": "Python 3",
   "language": "python",
   "name": "python3"
  },
  "language_info": {
   "codemirror_mode": {
    "name": "ipython",
    "version": 3
   },
   "file_extension": ".py",
   "mimetype": "text/x-python",
   "name": "python",
   "nbconvert_exporter": "python",
   "pygments_lexer": "ipython3",
   "version": "3.7.4"
  }
 },
 "nbformat": 4,
 "nbformat_minor": 2
}
